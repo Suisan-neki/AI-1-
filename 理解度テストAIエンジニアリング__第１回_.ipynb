{
  "nbformat": 4,
  "nbformat_minor": 0,
  "metadata": {
    "kernelspec": {
      "display_name": "Python 3",
      "language": "python",
      "name": "python3"
    },
    "language_info": {
      "codemirror_mode": {
        "name": "ipython",
        "version": 3
      },
      "file_extension": ".py",
      "mimetype": "text/x-python",
      "name": "python",
      "nbconvert_exporter": "python",
      "pygments_lexer": "ipython3",
      "version": "3.7.4"
    },
    "colab": {
      "provenance": [],
      "include_colab_link": true
    }
  },
  "cells": [
    {
      "cell_type": "markdown",
      "metadata": {
        "id": "view-in-github",
        "colab_type": "text"
      },
      "source": [
        "<a href=\"https://colab.research.google.com/github/Suisan-neki/AI-1-/blob/main/%E7%90%86%E8%A7%A3%E5%BA%A6%E3%83%86%E3%82%B9%E3%83%88AI%E3%82%A8%E3%83%B3%E3%82%B7%E3%82%99%E3%83%8B%E3%82%A2%E3%83%AA%E3%83%B3%E3%82%AF%E3%82%99__%E7%AC%AC%EF%BC%91%E5%9B%9E_.ipynb\" target=\"_parent\"><img src=\"https://colab.research.google.com/assets/colab-badge.svg\" alt=\"Open In Colab\"/></a>"
      ]
    },
    {
      "cell_type": "markdown",
      "metadata": {
        "id": "TzJTZtvE8Pyi"
      },
      "source": [
        "#AIエンジニアリング_第1回宿題"
      ]
    },
    {
      "cell_type": "markdown",
      "metadata": {
        "id": "WEjo789q8Pyo"
      },
      "source": [
        "## 課題\n",
        "今回の課題は確認クイズです。\n",
        "\n",
        "上から回答していくと提出用csvファイル `submission_pred.csv`が作成されます。\n",
        "提出期限までにOmnicampusに提出してください。\n",
        "\n",
        "**採点は締め切り後に一回だけ行われます**\n",
        "（**即時採点ではありません。**）"
      ]
    },
    {
      "cell_type": "markdown",
      "metadata": {
        "id": "-Rsy-_mn8Pyp"
      },
      "source": [
        "この部分は修正しないでください"
      ]
    },
    {
      "cell_type": "code",
      "metadata": {
        "id": "D1YEKFg_8Pyq"
      },
      "source": [
        "import numpy as np\n",
        "import pandas as pd\n",
        "\n",
        "NUM_EXAMPLE_QUESTIONS = 1\n",
        "example = np.zeros(NUM_EXAMPLE_QUESTIONS,int)\n",
        "\n",
        "NUM_QUESTIONS = 6\n",
        "myanswer = np.zeros(NUM_QUESTIONS,int)"
      ],
      "execution_count": null,
      "outputs": []
    },
    {
      "cell_type": "markdown",
      "metadata": {
        "id": "_Jx-kQ9n8Pyr"
      },
      "source": [
        "### 回答方法\n",
        "それぞれの$\\fbox{　(　)　}$に当てはまるものとして最も適切なものを1つずつ選んでください。\n",
        "\n",
        "**例題**\n",
        "\n",
        "「AIエンジニアリング実践」の講義では、AIを効果的に活用するためには$\\fbox{　(0)　}$が重要であり、座学と演習を通してAIシステムの構築と改善に必要な技術的知識を学び、実践できることを目的とする。\n",
        "\n",
        "1. モデルの中身の理解\n",
        "2. 幅広いエンジニアリングの知識\n",
        "3. 理論的な数学知識\n",
        "4. マーケティング戦略\n",
        "\n",
        "正しい回答を「幅広いエンジニアリングの知識」とすると、以下のように0番目に2を数字で回答します。"
      ]
    },
    {
      "cell_type": "markdown",
      "metadata": {
        "id": "_rtiLn6Y8Pys"
      },
      "source": [
        "```python\n",
        "example[0] = 2\n",
        "\n",
        "```"
      ]
    },
    {
      "cell_type": "markdown",
      "metadata": {
        "id": "1772jOC68Pys"
      },
      "source": [
        "### 確認クイズ"
      ]
    },
    {
      "cell_type": "markdown",
      "metadata": {
        "id": "mQbqua-B8Pyt"
      },
      "source": [
        "**Q1　あるQAシステムを開発し、評価したところ「95%の質問に正しく回答できる」という平均精度を達成した。この評価について、実運用上最も適切な懸念はどれか？**\n",
        "\n",
        "1.   95%という精度は十分に高いため、特に追加の改善は必要ない\n",
        "2.   平均値が高ければユーザは常に満足するため、追加評価は不要\n",
        "3.   平均精度が高くても、実際のユーザ環境では稀な例外的ケースが発生しうるため、システムの頑健性や例外処理の評価が必要である\n",
        "4.   実運用時の精度は必ず評価時より高くなるため、このままで問題ない\n",
        "\n",
        "\n",
        "回答: $\\fbox{　(0)　}$\n",
        "\n",
        "\\\n",
        "**Q2　次のうち、モデルの選択時に考慮すべき事項として<u>不適切</u>なものを選びなさい。**\n",
        "\n",
        "1.   推論速度が実環境の要求を満たしているかを確認する\n",
        "2.   学習データの量に応じて適切なモデルを選ぶ\n",
        "3.   最新の研究で発表されたモデルを必ず採用する\n",
        "4.   計算資源やコストとのバランスを考慮してモデルを選ぶ\n",
        "\n",
        "\n",
        "回答: $\\fbox{　(1)　}$\n",
        "\n",
        "\\\n",
        "**Q3　推論APIの応答時間（レイテンシ）が長くなる原因として最も可能性が高いものはどれか？**\n",
        "\n",
        "1.   学習データが多すぎる\n",
        "2.   APIが同期処理しか対応していない\n",
        "3.   モデルの精度が高すぎる\n",
        "4.   フロントエンドのHTMLに誤りがある\n",
        "\n",
        "\n",
        "回答: $\\fbox{　(2)　}$\n",
        "\n",
        "\\\n",
        "**Q4　以下のうち、推論を本番システムに組み込む際の一般的な考慮点として最も適切なものはどれか？**\n",
        "\n",
        "1.   学習率の最適化\n",
        "2.   モデルの可視化\n",
        "3.   モデルのレスポンスタイムと可用性の確保\n",
        "4.   精度評価のためのクロスバリデーション\n",
        "\n",
        "\n",
        "回答: $\\fbox{　(3)　}$\n",
        "\n",
        "\\\n",
        "**Q5　以下のうち、推論処理のコンポーネントを切り出す主な理由として最も適切なものはどれか？**\n",
        "\n",
        "1.   モデルの精度を上げるため\n",
        "2.   システムの再起動を高速化するため\n",
        "3.   スケーリングやリソース最適化をしやすくするため\n",
        "4.   フロントエンドと一体化させるため\n",
        "\n",
        "\n",
        "回答: $\\fbox{　(4)　}$\n",
        "\n",
        "\\\n",
        "**Q6　以下のアーキテクチャ構成のうち、LLMのAPIを高負荷環境で安定提供するために有効な構成はどれか？**\n",
        "\n",
        "1.   モノリシック構成でモデルとUIを一体にする\n",
        "2.   推論処理をイベント駆動で処理し、キューイングする\n",
        "3.   クライアント端末でモデルを動かす構成に限定する\n",
        "4.   学習と推論を同じコンテナで同時に行う\n",
        "\n",
        "\n",
        "回答: $\\fbox{　(5)　}$\n"
      ]
    },
    {
      "cell_type": "code",
      "metadata": {
        "id": "UbUB8ge78Pyt"
      },
      "source": [
        "myanswer[0] =  3\n",
        "myanswer[1] =  3\n",
        "myanswer[2] =  1\n",
        "myanswer[3] =  3\n",
        "myanswer[4] =  3\n",
        "myanswer[5] =  1"
      ],
      "execution_count": null,
      "outputs": []
    },
    {
      "cell_type": "code",
      "source": [
        "if not np.any(myanswer==0):\n",
        "    submission = pd.Series(myanswer, name='label')\n",
        "    submission.to_csv('/content/submission_pred.csv', header=True, index_label='id')\n",
        "else:\n",
        "    print('Error: please answer all of the questions')"
      ],
      "metadata": {
        "id": "bzBjejdRx3A_"
      },
      "execution_count": null,
      "outputs": []
    },
    {
      "cell_type": "code",
      "source": [],
      "metadata": {
        "id": "08GmEUFKyPOd"
      },
      "execution_count": null,
      "outputs": []
    }
  ]
}